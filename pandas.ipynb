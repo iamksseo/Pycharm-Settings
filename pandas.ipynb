{
  "nbformat": 4,
  "nbformat_minor": 0,
  "metadata": {
    "colab": {
      "name": "pandas.ipynb",
      "provenance": [],
      "collapsed_sections": [],
      "authorship_tag": "ABX9TyPuRedbPwZQ8/DCZiY2AkMX",
      "include_colab_link": true
    },
    "kernelspec": {
      "name": "python3",
      "display_name": "Python 3"
    },
    "language_info": {
      "name": "python"
    }
  },
  "cells": [
    {
      "cell_type": "markdown",
      "metadata": {
        "id": "view-in-github",
        "colab_type": "text"
      },
      "source": [
        "<a href=\"https://colab.research.google.com/github/iamksseo/colab/blob/master/pandas.ipynb\" target=\"_parent\"><img src=\"https://colab.research.google.com/assets/colab-badge.svg\" alt=\"Open In Colab\"/></a>"
      ]
    },
    {
      "cell_type": "markdown",
      "metadata": {
        "id": "F3QQt08YeHML"
      },
      "source": [
        "# 환경 설정"
      ]
    },
    {
      "cell_type": "code",
      "metadata": {
        "id": "T2czkL49duKh"
      },
      "source": [
        "import pandas as pd\n",
        "import numpy as np\n",
        "import matplotlib.pyplot as plt"
      ],
      "execution_count": 2,
      "outputs": []
    },
    {
      "cell_type": "markdown",
      "metadata": {
        "id": "xAIkk3pNeSso"
      },
      "source": [
        ""
      ]
    },
    {
      "cell_type": "markdown",
      "metadata": {
        "id": "v7pG0bpteYyk"
      },
      "source": [
        "# Series"
      ]
    },
    {
      "cell_type": "code",
      "metadata": {
        "colab": {
          "base_uri": "https://localhost:8080/"
        },
        "id": "6nhC3Ml1uNBr",
        "outputId": "5853d4e5-0c18-4415-a9ce-7faca010ff83"
      },
      "source": [
        "s = pd.Series([1, 3, 5, np.nan, 6, 8])\n",
        "s.dtypes"
      ],
      "execution_count": 6,
      "outputs": [
        {
          "output_type": "execute_result",
          "data": {
            "text/plain": [
              "dtype('float64')"
            ]
          },
          "metadata": {
            "tags": []
          },
          "execution_count": 6
        }
      ]
    },
    {
      "cell_type": "markdown",
      "metadata": {
        "id": "QH9zaMBcedmy"
      },
      "source": [
        "# DataFrame"
      ]
    },
    {
      "cell_type": "code",
      "metadata": {
        "id": "weyCBE6Vw2hc"
      },
      "source": [
        "dates = pd.date_range('20130101', periods=6)\n",
        "df = pd.DataFrame(np.random.randn(6,4), index=dates, columns=list('ABCD'))"
      ],
      "execution_count": 11,
      "outputs": []
    },
    {
      "cell_type": "code",
      "metadata": {
        "colab": {
          "base_uri": "https://localhost:8080/",
          "height": 235
        },
        "id": "6P4WwcjsxZyw",
        "outputId": "74dcf362-d053-4fce-bfb0-f680d58da722"
      },
      "source": [
        "df.dtypes\n",
        "df.head(6)\n",
        "#df.tail(3)"
      ],
      "execution_count": 20,
      "outputs": [
        {
          "output_type": "execute_result",
          "data": {
            "text/html": [
              "<div>\n",
              "<style scoped>\n",
              "    .dataframe tbody tr th:only-of-type {\n",
              "        vertical-align: middle;\n",
              "    }\n",
              "\n",
              "    .dataframe tbody tr th {\n",
              "        vertical-align: top;\n",
              "    }\n",
              "\n",
              "    .dataframe thead th {\n",
              "        text-align: right;\n",
              "    }\n",
              "</style>\n",
              "<table border=\"1\" class=\"dataframe\">\n",
              "  <thead>\n",
              "    <tr style=\"text-align: right;\">\n",
              "      <th></th>\n",
              "      <th>A</th>\n",
              "      <th>B</th>\n",
              "      <th>C</th>\n",
              "      <th>D</th>\n",
              "    </tr>\n",
              "  </thead>\n",
              "  <tbody>\n",
              "    <tr>\n",
              "      <th>2013-01-01</th>\n",
              "      <td>-0.476424</td>\n",
              "      <td>-1.763775</td>\n",
              "      <td>0.930987</td>\n",
              "      <td>-0.274145</td>\n",
              "    </tr>\n",
              "    <tr>\n",
              "      <th>2013-01-02</th>\n",
              "      <td>0.262482</td>\n",
              "      <td>1.641205</td>\n",
              "      <td>1.143919</td>\n",
              "      <td>0.968487</td>\n",
              "    </tr>\n",
              "    <tr>\n",
              "      <th>2013-01-03</th>\n",
              "      <td>-0.958177</td>\n",
              "      <td>-0.185203</td>\n",
              "      <td>1.358026</td>\n",
              "      <td>0.525554</td>\n",
              "    </tr>\n",
              "    <tr>\n",
              "      <th>2013-01-04</th>\n",
              "      <td>-0.053012</td>\n",
              "      <td>0.884046</td>\n",
              "      <td>0.831644</td>\n",
              "      <td>-0.795464</td>\n",
              "    </tr>\n",
              "    <tr>\n",
              "      <th>2013-01-05</th>\n",
              "      <td>-0.847756</td>\n",
              "      <td>0.310958</td>\n",
              "      <td>0.365844</td>\n",
              "      <td>0.095230</td>\n",
              "    </tr>\n",
              "    <tr>\n",
              "      <th>2013-01-06</th>\n",
              "      <td>2.132532</td>\n",
              "      <td>0.132733</td>\n",
              "      <td>-0.292398</td>\n",
              "      <td>-0.393972</td>\n",
              "    </tr>\n",
              "  </tbody>\n",
              "</table>\n",
              "</div>"
            ],
            "text/plain": [
              "                   A         B         C         D\n",
              "2013-01-01 -0.476424 -1.763775  0.930987 -0.274145\n",
              "2013-01-02  0.262482  1.641205  1.143919  0.968487\n",
              "2013-01-03 -0.958177 -0.185203  1.358026  0.525554\n",
              "2013-01-04 -0.053012  0.884046  0.831644 -0.795464\n",
              "2013-01-05 -0.847756  0.310958  0.365844  0.095230\n",
              "2013-01-06  2.132532  0.132733 -0.292398 -0.393972"
            ]
          },
          "metadata": {
            "tags": []
          },
          "execution_count": 20
        }
      ]
    },
    {
      "cell_type": "code",
      "metadata": {
        "colab": {
          "base_uri": "https://localhost:8080/",
          "height": 142
        },
        "id": "RWMpGx-oxgYW",
        "outputId": "cfdda47b-7ad4-4271-9dd2-c66fc6acbdf1"
      },
      "source": [
        "df.iloc[0:3,0:2]"
      ],
      "execution_count": 32,
      "outputs": [
        {
          "output_type": "execute_result",
          "data": {
            "text/html": [
              "<div>\n",
              "<style scoped>\n",
              "    .dataframe tbody tr th:only-of-type {\n",
              "        vertical-align: middle;\n",
              "    }\n",
              "\n",
              "    .dataframe tbody tr th {\n",
              "        vertical-align: top;\n",
              "    }\n",
              "\n",
              "    .dataframe thead th {\n",
              "        text-align: right;\n",
              "    }\n",
              "</style>\n",
              "<table border=\"1\" class=\"dataframe\">\n",
              "  <thead>\n",
              "    <tr style=\"text-align: right;\">\n",
              "      <th></th>\n",
              "      <th>A</th>\n",
              "      <th>B</th>\n",
              "    </tr>\n",
              "  </thead>\n",
              "  <tbody>\n",
              "    <tr>\n",
              "      <th>2013-01-01</th>\n",
              "      <td>-0.476424</td>\n",
              "      <td>-1.763775</td>\n",
              "    </tr>\n",
              "    <tr>\n",
              "      <th>2013-01-02</th>\n",
              "      <td>0.262482</td>\n",
              "      <td>1.641205</td>\n",
              "    </tr>\n",
              "    <tr>\n",
              "      <th>2013-01-03</th>\n",
              "      <td>-0.958177</td>\n",
              "      <td>-0.185203</td>\n",
              "    </tr>\n",
              "  </tbody>\n",
              "</table>\n",
              "</div>"
            ],
            "text/plain": [
              "                   A         B\n",
              "2013-01-01 -0.476424 -1.763775\n",
              "2013-01-02  0.262482  1.641205\n",
              "2013-01-03 -0.958177 -0.185203"
            ]
          },
          "metadata": {
            "tags": []
          },
          "execution_count": 32
        }
      ]
    },
    {
      "cell_type": "code",
      "metadata": {
        "colab": {
          "base_uri": "https://localhost:8080/",
          "height": 142
        },
        "id": "DPtl36kOx_kR",
        "outputId": "604fcd4f-b6a1-4b74-9c3b-834031a1d5ae"
      },
      "source": [
        "df.loc['20130101':'20130103',['A','B']]"
      ],
      "execution_count": 34,
      "outputs": [
        {
          "output_type": "execute_result",
          "data": {
            "text/html": [
              "<div>\n",
              "<style scoped>\n",
              "    .dataframe tbody tr th:only-of-type {\n",
              "        vertical-align: middle;\n",
              "    }\n",
              "\n",
              "    .dataframe tbody tr th {\n",
              "        vertical-align: top;\n",
              "    }\n",
              "\n",
              "    .dataframe thead th {\n",
              "        text-align: right;\n",
              "    }\n",
              "</style>\n",
              "<table border=\"1\" class=\"dataframe\">\n",
              "  <thead>\n",
              "    <tr style=\"text-align: right;\">\n",
              "      <th></th>\n",
              "      <th>A</th>\n",
              "      <th>B</th>\n",
              "    </tr>\n",
              "  </thead>\n",
              "  <tbody>\n",
              "    <tr>\n",
              "      <th>2013-01-01</th>\n",
              "      <td>-0.476424</td>\n",
              "      <td>-1.763775</td>\n",
              "    </tr>\n",
              "    <tr>\n",
              "      <th>2013-01-02</th>\n",
              "      <td>0.262482</td>\n",
              "      <td>1.641205</td>\n",
              "    </tr>\n",
              "    <tr>\n",
              "      <th>2013-01-03</th>\n",
              "      <td>-0.958177</td>\n",
              "      <td>-0.185203</td>\n",
              "    </tr>\n",
              "  </tbody>\n",
              "</table>\n",
              "</div>"
            ],
            "text/plain": [
              "                   A         B\n",
              "2013-01-01 -0.476424 -1.763775\n",
              "2013-01-02  0.262482  1.641205\n",
              "2013-01-03 -0.958177 -0.185203"
            ]
          },
          "metadata": {
            "tags": []
          },
          "execution_count": 34
        }
      ]
    },
    {
      "cell_type": "code",
      "metadata": {
        "colab": {
          "base_uri": "https://localhost:8080/",
          "height": 235
        },
        "id": "3fMS8oyOx_af",
        "outputId": "7c5574f2-77d0-4ddd-eeb8-725cc17e19b6"
      },
      "source": [
        "df.apply(np.cumsum)"
      ],
      "execution_count": 37,
      "outputs": [
        {
          "output_type": "execute_result",
          "data": {
            "text/html": [
              "<div>\n",
              "<style scoped>\n",
              "    .dataframe tbody tr th:only-of-type {\n",
              "        vertical-align: middle;\n",
              "    }\n",
              "\n",
              "    .dataframe tbody tr th {\n",
              "        vertical-align: top;\n",
              "    }\n",
              "\n",
              "    .dataframe thead th {\n",
              "        text-align: right;\n",
              "    }\n",
              "</style>\n",
              "<table border=\"1\" class=\"dataframe\">\n",
              "  <thead>\n",
              "    <tr style=\"text-align: right;\">\n",
              "      <th></th>\n",
              "      <th>A</th>\n",
              "      <th>B</th>\n",
              "      <th>C</th>\n",
              "      <th>D</th>\n",
              "    </tr>\n",
              "  </thead>\n",
              "  <tbody>\n",
              "    <tr>\n",
              "      <th>2013-01-01</th>\n",
              "      <td>-0.476424</td>\n",
              "      <td>-1.763775</td>\n",
              "      <td>0.930987</td>\n",
              "      <td>-0.274145</td>\n",
              "    </tr>\n",
              "    <tr>\n",
              "      <th>2013-01-02</th>\n",
              "      <td>-0.213942</td>\n",
              "      <td>-0.122571</td>\n",
              "      <td>2.074906</td>\n",
              "      <td>0.694342</td>\n",
              "    </tr>\n",
              "    <tr>\n",
              "      <th>2013-01-03</th>\n",
              "      <td>-1.172119</td>\n",
              "      <td>-0.307774</td>\n",
              "      <td>3.432932</td>\n",
              "      <td>1.219896</td>\n",
              "    </tr>\n",
              "    <tr>\n",
              "      <th>2013-01-04</th>\n",
              "      <td>-1.225131</td>\n",
              "      <td>0.576272</td>\n",
              "      <td>4.264576</td>\n",
              "      <td>0.424432</td>\n",
              "    </tr>\n",
              "    <tr>\n",
              "      <th>2013-01-05</th>\n",
              "      <td>-2.072887</td>\n",
              "      <td>0.887230</td>\n",
              "      <td>4.630420</td>\n",
              "      <td>0.519663</td>\n",
              "    </tr>\n",
              "    <tr>\n",
              "      <th>2013-01-06</th>\n",
              "      <td>0.059644</td>\n",
              "      <td>1.019963</td>\n",
              "      <td>4.338022</td>\n",
              "      <td>0.125691</td>\n",
              "    </tr>\n",
              "  </tbody>\n",
              "</table>\n",
              "</div>"
            ],
            "text/plain": [
              "                   A         B         C         D\n",
              "2013-01-01 -0.476424 -1.763775  0.930987 -0.274145\n",
              "2013-01-02 -0.213942 -0.122571  2.074906  0.694342\n",
              "2013-01-03 -1.172119 -0.307774  3.432932  1.219896\n",
              "2013-01-04 -1.225131  0.576272  4.264576  0.424432\n",
              "2013-01-05 -2.072887  0.887230  4.630420  0.519663\n",
              "2013-01-06  0.059644  1.019963  4.338022  0.125691"
            ]
          },
          "metadata": {
            "tags": []
          },
          "execution_count": 37
        }
      ]
    },
    {
      "cell_type": "code",
      "metadata": {
        "colab": {
          "base_uri": "https://localhost:8080/"
        },
        "id": "8lBPFcRc0M_Q",
        "outputId": "9fb6dcec-a291-45e6-bb70-5d061165ad13"
      },
      "source": [
        "df['A']"
      ],
      "execution_count": 22,
      "outputs": [
        {
          "output_type": "execute_result",
          "data": {
            "text/plain": [
              "2013-01-01   -0.476424\n",
              "2013-01-02    0.262482\n",
              "2013-01-03   -0.958177\n",
              "2013-01-04   -0.053012\n",
              "2013-01-05   -0.847756\n",
              "2013-01-06    2.132532\n",
              "Freq: D, Name: A, dtype: float64"
            ]
          },
          "metadata": {
            "tags": []
          },
          "execution_count": 22
        }
      ]
    },
    {
      "cell_type": "code",
      "metadata": {
        "id": "qXQEQNWF857G"
      },
      "source": [
        "left = pd.DataFrame({'key': ['foo', 'bar'], 'lval': [1, 2]})\n",
        "right = pd.DataFrame({'key': ['foo', 'bar'], 'rval': [4, 5]})"
      ],
      "execution_count": 38,
      "outputs": []
    },
    {
      "cell_type": "code",
      "metadata": {
        "colab": {
          "base_uri": "https://localhost:8080/",
          "height": 111
        },
        "id": "V9iHp0yF8-wd",
        "outputId": "ae3d222f-ff9e-4a3d-b6c3-465fe4763ee2"
      },
      "source": [
        "merged = pd.merge(left, right, on='key')\n",
        "merged"
      ],
      "execution_count": 39,
      "outputs": [
        {
          "output_type": "execute_result",
          "data": {
            "text/html": [
              "<div>\n",
              "<style scoped>\n",
              "    .dataframe tbody tr th:only-of-type {\n",
              "        vertical-align: middle;\n",
              "    }\n",
              "\n",
              "    .dataframe tbody tr th {\n",
              "        vertical-align: top;\n",
              "    }\n",
              "\n",
              "    .dataframe thead th {\n",
              "        text-align: right;\n",
              "    }\n",
              "</style>\n",
              "<table border=\"1\" class=\"dataframe\">\n",
              "  <thead>\n",
              "    <tr style=\"text-align: right;\">\n",
              "      <th></th>\n",
              "      <th>key</th>\n",
              "      <th>lval</th>\n",
              "      <th>rval</th>\n",
              "    </tr>\n",
              "  </thead>\n",
              "  <tbody>\n",
              "    <tr>\n",
              "      <th>0</th>\n",
              "      <td>foo</td>\n",
              "      <td>1</td>\n",
              "      <td>4</td>\n",
              "    </tr>\n",
              "    <tr>\n",
              "      <th>1</th>\n",
              "      <td>bar</td>\n",
              "      <td>2</td>\n",
              "      <td>5</td>\n",
              "    </tr>\n",
              "  </tbody>\n",
              "</table>\n",
              "</div>"
            ],
            "text/plain": [
              "   key  lval  rval\n",
              "0  foo     1     4\n",
              "1  bar     2     5"
            ]
          },
          "metadata": {
            "tags": []
          },
          "execution_count": 39
        }
      ]
    },
    {
      "cell_type": "code",
      "metadata": {
        "id": "lrbvCKn59E0r"
      },
      "source": [
        "df = pd.DataFrame(np.random.randn(8, 4), columns=['A', 'B', 'C', 'D'])"
      ],
      "execution_count": 40,
      "outputs": []
    },
    {
      "cell_type": "code",
      "metadata": {
        "colab": {
          "base_uri": "https://localhost:8080/",
          "height": 297
        },
        "id": "K2Pzpq7I-kpI",
        "outputId": "e0df7f22-1262-48f9-d7d7-75c615ddd26e"
      },
      "source": [
        "df"
      ],
      "execution_count": 41,
      "outputs": [
        {
          "output_type": "execute_result",
          "data": {
            "text/html": [
              "<div>\n",
              "<style scoped>\n",
              "    .dataframe tbody tr th:only-of-type {\n",
              "        vertical-align: middle;\n",
              "    }\n",
              "\n",
              "    .dataframe tbody tr th {\n",
              "        vertical-align: top;\n",
              "    }\n",
              "\n",
              "    .dataframe thead th {\n",
              "        text-align: right;\n",
              "    }\n",
              "</style>\n",
              "<table border=\"1\" class=\"dataframe\">\n",
              "  <thead>\n",
              "    <tr style=\"text-align: right;\">\n",
              "      <th></th>\n",
              "      <th>A</th>\n",
              "      <th>B</th>\n",
              "      <th>C</th>\n",
              "      <th>D</th>\n",
              "    </tr>\n",
              "  </thead>\n",
              "  <tbody>\n",
              "    <tr>\n",
              "      <th>0</th>\n",
              "      <td>0.959335</td>\n",
              "      <td>0.259883</td>\n",
              "      <td>-0.827178</td>\n",
              "      <td>0.205542</td>\n",
              "    </tr>\n",
              "    <tr>\n",
              "      <th>1</th>\n",
              "      <td>-0.440660</td>\n",
              "      <td>2.146749</td>\n",
              "      <td>-1.346059</td>\n",
              "      <td>0.572159</td>\n",
              "    </tr>\n",
              "    <tr>\n",
              "      <th>2</th>\n",
              "      <td>1.544146</td>\n",
              "      <td>-0.623606</td>\n",
              "      <td>-1.030098</td>\n",
              "      <td>-1.432758</td>\n",
              "    </tr>\n",
              "    <tr>\n",
              "      <th>3</th>\n",
              "      <td>2.156010</td>\n",
              "      <td>-0.218113</td>\n",
              "      <td>-0.123220</td>\n",
              "      <td>-1.316569</td>\n",
              "    </tr>\n",
              "    <tr>\n",
              "      <th>4</th>\n",
              "      <td>0.298007</td>\n",
              "      <td>-0.003344</td>\n",
              "      <td>-0.705602</td>\n",
              "      <td>0.966438</td>\n",
              "    </tr>\n",
              "    <tr>\n",
              "      <th>5</th>\n",
              "      <td>-0.967474</td>\n",
              "      <td>1.344953</td>\n",
              "      <td>-0.858006</td>\n",
              "      <td>-0.442967</td>\n",
              "    </tr>\n",
              "    <tr>\n",
              "      <th>6</th>\n",
              "      <td>0.291487</td>\n",
              "      <td>0.447926</td>\n",
              "      <td>-0.892974</td>\n",
              "      <td>-1.651827</td>\n",
              "    </tr>\n",
              "    <tr>\n",
              "      <th>7</th>\n",
              "      <td>0.027685</td>\n",
              "      <td>-1.458054</td>\n",
              "      <td>-0.311006</td>\n",
              "      <td>0.961541</td>\n",
              "    </tr>\n",
              "  </tbody>\n",
              "</table>\n",
              "</div>"
            ],
            "text/plain": [
              "          A         B         C         D\n",
              "0  0.959335  0.259883 -0.827178  0.205542\n",
              "1 -0.440660  2.146749 -1.346059  0.572159\n",
              "2  1.544146 -0.623606 -1.030098 -1.432758\n",
              "3  2.156010 -0.218113 -0.123220 -1.316569\n",
              "4  0.298007 -0.003344 -0.705602  0.966438\n",
              "5 -0.967474  1.344953 -0.858006 -0.442967\n",
              "6  0.291487  0.447926 -0.892974 -1.651827\n",
              "7  0.027685 -1.458054 -0.311006  0.961541"
            ]
          },
          "metadata": {
            "tags": []
          },
          "execution_count": 41
        }
      ]
    },
    {
      "cell_type": "code",
      "metadata": {
        "colab": {
          "base_uri": "https://localhost:8080/"
        },
        "id": "Vx0TX2gL-nUI",
        "outputId": "2f2a0f8f-805c-48a7-a086-38eb8fa28a5e"
      },
      "source": [
        "s = df.iloc[3]\n",
        "s"
      ],
      "execution_count": 42,
      "outputs": [
        {
          "output_type": "execute_result",
          "data": {
            "text/plain": [
              "A    2.156010\n",
              "B   -0.218113\n",
              "C   -0.123220\n",
              "D   -1.316569\n",
              "Name: 3, dtype: float64"
            ]
          },
          "metadata": {
            "tags": []
          },
          "execution_count": 42
        }
      ]
    },
    {
      "cell_type": "code",
      "metadata": {
        "colab": {
          "base_uri": "https://localhost:8080/",
          "height": 328
        },
        "id": "xBMpyvim-svb",
        "outputId": "1dc42243-c46e-4cf3-b390-ce5f089bb412"
      },
      "source": [
        "result = df.append(s, ignore_index=True)\n",
        "result"
      ],
      "execution_count": 47,
      "outputs": [
        {
          "output_type": "execute_result",
          "data": {
            "text/html": [
              "<div>\n",
              "<style scoped>\n",
              "    .dataframe tbody tr th:only-of-type {\n",
              "        vertical-align: middle;\n",
              "    }\n",
              "\n",
              "    .dataframe tbody tr th {\n",
              "        vertical-align: top;\n",
              "    }\n",
              "\n",
              "    .dataframe thead th {\n",
              "        text-align: right;\n",
              "    }\n",
              "</style>\n",
              "<table border=\"1\" class=\"dataframe\">\n",
              "  <thead>\n",
              "    <tr style=\"text-align: right;\">\n",
              "      <th></th>\n",
              "      <th>A</th>\n",
              "      <th>B</th>\n",
              "      <th>C</th>\n",
              "      <th>D</th>\n",
              "    </tr>\n",
              "  </thead>\n",
              "  <tbody>\n",
              "    <tr>\n",
              "      <th>0</th>\n",
              "      <td>0.959335</td>\n",
              "      <td>0.259883</td>\n",
              "      <td>-0.827178</td>\n",
              "      <td>0.205542</td>\n",
              "    </tr>\n",
              "    <tr>\n",
              "      <th>1</th>\n",
              "      <td>-0.440660</td>\n",
              "      <td>2.146749</td>\n",
              "      <td>-1.346059</td>\n",
              "      <td>0.572159</td>\n",
              "    </tr>\n",
              "    <tr>\n",
              "      <th>2</th>\n",
              "      <td>1.544146</td>\n",
              "      <td>-0.623606</td>\n",
              "      <td>-1.030098</td>\n",
              "      <td>-1.432758</td>\n",
              "    </tr>\n",
              "    <tr>\n",
              "      <th>3</th>\n",
              "      <td>2.156010</td>\n",
              "      <td>-0.218113</td>\n",
              "      <td>-0.123220</td>\n",
              "      <td>-1.316569</td>\n",
              "    </tr>\n",
              "    <tr>\n",
              "      <th>4</th>\n",
              "      <td>0.298007</td>\n",
              "      <td>-0.003344</td>\n",
              "      <td>-0.705602</td>\n",
              "      <td>0.966438</td>\n",
              "    </tr>\n",
              "    <tr>\n",
              "      <th>5</th>\n",
              "      <td>-0.967474</td>\n",
              "      <td>1.344953</td>\n",
              "      <td>-0.858006</td>\n",
              "      <td>-0.442967</td>\n",
              "    </tr>\n",
              "    <tr>\n",
              "      <th>6</th>\n",
              "      <td>0.291487</td>\n",
              "      <td>0.447926</td>\n",
              "      <td>-0.892974</td>\n",
              "      <td>-1.651827</td>\n",
              "    </tr>\n",
              "    <tr>\n",
              "      <th>7</th>\n",
              "      <td>0.027685</td>\n",
              "      <td>-1.458054</td>\n",
              "      <td>-0.311006</td>\n",
              "      <td>0.961541</td>\n",
              "    </tr>\n",
              "    <tr>\n",
              "      <th>8</th>\n",
              "      <td>2.156010</td>\n",
              "      <td>-0.218113</td>\n",
              "      <td>-0.123220</td>\n",
              "      <td>-1.316569</td>\n",
              "    </tr>\n",
              "  </tbody>\n",
              "</table>\n",
              "</div>"
            ],
            "text/plain": [
              "          A         B         C         D\n",
              "0  0.959335  0.259883 -0.827178  0.205542\n",
              "1 -0.440660  2.146749 -1.346059  0.572159\n",
              "2  1.544146 -0.623606 -1.030098 -1.432758\n",
              "3  2.156010 -0.218113 -0.123220 -1.316569\n",
              "4  0.298007 -0.003344 -0.705602  0.966438\n",
              "5 -0.967474  1.344953 -0.858006 -0.442967\n",
              "6  0.291487  0.447926 -0.892974 -1.651827\n",
              "7  0.027685 -1.458054 -0.311006  0.961541\n",
              "8  2.156010 -0.218113 -0.123220 -1.316569"
            ]
          },
          "metadata": {
            "tags": []
          },
          "execution_count": 47
        }
      ]
    },
    {
      "cell_type": "code",
      "metadata": {
        "colab": {
          "base_uri": "https://localhost:8080/",
          "height": 295
        },
        "id": "3kzGQOjTDvzN",
        "outputId": "80adcac1-4bda-49d4-8b06-dbb1241005d6"
      },
      "source": [
        "ts = pd.Series(np.random.randn(1000), index=pd.date_range('1/1/2000', periods=1000))\n",
        "ts = ts.cumsum()\n",
        "ts.plot()"
      ],
      "execution_count": 49,
      "outputs": [
        {
          "output_type": "execute_result",
          "data": {
            "text/plain": [
              "<matplotlib.axes._subplots.AxesSubplot at 0x7ff7d925ce90>"
            ]
          },
          "metadata": {
            "tags": []
          },
          "execution_count": 49
        },
        {
          "output_type": "display_data",
          "data": {
            "image/png": "[encoded data removed]",
            "text/plain": [
              "<Figure size 432x288 with 1 Axes>"
            ]
          },
          "metadata": {
            "tags": [],
            "needs_background": "light"
          }
        }
      ]
    },
    {
      "cell_type": "code",
      "metadata": {
        "id": "zzArBkZGDJs-"
      },
      "source": [
        "df = pd.DataFrame(np.random.randn(1000, 4), index=ts.index, columns=['A', 'B', 'C', 'D'])\n",
        "df = df.cumsum()"
      ],
      "execution_count": 50,
      "outputs": []
    },
    {
      "cell_type": "code",
      "metadata": {
        "colab": {
          "base_uri": "https://localhost:8080/",
          "height": 313
        },
        "id": "xZ47mqoJD0qd",
        "outputId": "6f766c60-b8be-4bdc-ab20-ed012e071585"
      },
      "source": [
        "plt.figure()\n",
        "df.plot()\n",
        "plt.legend(loc='best')"
      ],
      "execution_count": 55,
      "outputs": [
        {
          "output_type": "execute_result",
          "data": {
            "text/plain": [
              "<matplotlib.legend.Legend at 0x7ff7d7e46e50>"
            ]
          },
          "metadata": {
            "tags": []
          },
          "execution_count": 55
        },
        {
          "output_type": "display_data",
          "data": {
            "text/plain": [
              "<Figure size 432x288 with 0 Axes>"
            ]
          },
          "metadata": {
            "tags": []
          }
        },
        {
          "output_type": "display_data",
          "data": {
            "image/png": "[encoded data removed]",
            "text/plain": [
              "<Figure size 432x288 with 1 Axes>"
            ]
          },
          "metadata": {
            "tags": [],
            "needs_background": "light"
          }
        }
      ]
    }
  ]
}
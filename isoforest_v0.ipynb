{
  "nbformat": 4,
  "nbformat_minor": 0,
  "metadata": {
    "colab": {
      "name": "isoforest_v0.ipynb",
      "provenance": [],
      "authorship_tag": "ABX9TyPQVZx6nUqRQ+OObvCaajB6",
      "include_colab_link": true
    },
    "kernelspec": {
      "name": "python3",
      "display_name": "Python 3"
    },
    "language_info": {
      "name": "python"
    }
  },
  "cells": [
    {
      "cell_type": "markdown",
      "metadata": {
        "id": "view-in-github",
        "colab_type": "text"
      },
      "source": [
        "<a href=\"https://colab.research.google.com/github/iamksseo/colab/blob/master/isoforest_v0.ipynb\" target=\"_parent\"><img src=\"https://colab.research.google.com/assets/colab-badge.svg\" alt=\"Open In Colab\"/></a>"
      ]
    },
    {
      "cell_type": "code",
      "metadata": {
        "id": "9UJNo6piSrVd"
      },
      "source": [
        "# importing libaries ----\n",
        "import numpy as np\n",
        "import pandas as pd\n",
        "import matplotlib.pyplot as plt\n",
        "from pylab import savefig\n",
        "from sklearn.ensemble import IsolationForest"
      ],
      "execution_count": 1,
      "outputs": []
    },
    {
      "cell_type": "code",
      "metadata": {
        "id": "bn2ZQPqOS9va"
      },
      "source": [
        "# Generating data ----\n",
        "rng = np.random.RandomState(42)\n",
        "\n",
        "# Generating training data \n",
        "X_train = 0.2 * rng.randn(1000, 2)\n",
        "X_train = np.r_[X_train + 3, X_train]\n",
        "X_train = pd.DataFrame(X_train, columns = ['x1', 'x2'])\n",
        "\n",
        "# Generating new, 'normal' observation\n",
        "X_test = 0.2 * rng.randn(200, 2)\n",
        "X_test = np.r_[X_test + 3, X_test]\n",
        "X_test = pd.DataFrame(X_test, columns = ['x1', 'x2'])\n",
        "\n",
        "# Generating outliers\n",
        "X_outliers = rng.uniform(low=-1, high=5, size=(50, 2))\n",
        "X_outliers = pd.DataFrame(X_outliers, columns = ['x1', 'x2'])"
      ],
      "execution_count": 3,
      "outputs": []
    },
    {
      "cell_type": "code",
      "metadata": {
        "id": "9KukwRtxTmyL"
      },
      "source": [
        "# Isolation Forest ----\n",
        "\n",
        "# training the model\n",
        "clf = IsolationForest(max_samples=100, random_state=rng)\n",
        "clf.fit(X_train)\n",
        "\n",
        "# predictions\n",
        "y_pred_train = clf.predict(X_train)\n",
        "y_pred_test = clf.predict(X_test)\n",
        "y_pred_outliers = clf.predict(X_outliers)"
      ],
      "execution_count": 7,
      "outputs": []
    },
    {
      "cell_type": "code",
      "metadata": {
        "colab": {
          "base_uri": "https://localhost:8080/"
        },
        "id": "-tjRkOtMU4F_",
        "outputId": "c7757d77-0495-4060-e532-73f795ac87c5"
      },
      "source": [
        "list(y_pred_test).count(1)"
      ],
      "execution_count": 16,
      "outputs": [
        {
          "output_type": "execute_result",
          "data": {
            "text/plain": [
              "222"
            ]
          },
          "metadata": {
            "tags": []
          },
          "execution_count": 16
        }
      ]
    },
    {
      "cell_type": "code",
      "metadata": {
        "colab": {
          "base_uri": "https://localhost:8080/"
        },
        "id": "R-km7Mi2T4OP",
        "outputId": "56323c2a-7aca-4e6c-c4a6-610b8ec7ab39"
      },
      "source": [
        "# new, 'normal' observations ----\n",
        "print(\"Accuracy:\", list(y_pred_test).count(1)/y_pred_test.shape[0])\n",
        "\n",
        "# outliers ----\n",
        "print(\"Accuracy:\", list(y_pred_outliers).count(-1)/y_pred_outliers.shape[0])"
      ],
      "execution_count": 8,
      "outputs": [
        {
          "output_type": "stream",
          "text": [
            "Accuracy: 0.555\n",
            "Accuracy: 0.98\n"
          ],
          "name": "stdout"
        }
      ]
    }
  ]
}